{
 "cells": [
  {
   "cell_type": "code",
   "execution_count": 8,
   "id": "cf863258",
   "metadata": {},
   "outputs": [],
   "source": [
    "import numpy as np\n",
    "import pandas as pd"
   ]
  },
  {
   "cell_type": "code",
   "execution_count": 11,
   "id": "a28400c1",
   "metadata": {},
   "outputs": [],
   "source": [
    "df = pd.read_csv('student_performance.csv')"
   ]
  },
  {
   "cell_type": "code",
   "execution_count": 119,
   "id": "9eb76671",
   "metadata": {},
   "outputs": [],
   "source": [
    "x = np.array(df.PreviousMarks)\n",
    "y = np.array(df.PerformanceIndex)"
   ]
  },
  {
   "cell_type": "markdown",
   "id": "bd21eaa1",
   "metadata": {},
   "source": [
    "La regresion lineal tiene esta forma\n",
    "\n",
    "$$\n",
    "\\mathbf{y} = \\mathbf{X}\\boldsymbol{\\beta} \n",
    "$$\n",
    "\n",
    "$$\n",
    "\\mathbf{X}^\\top\\mathbf{X}\\hat{\\boldsymbol{\\beta}} =\\mathbf{X}^\\top \\mathbf{y}\n",
    "$$\n",
    "\n",
    "$$\n",
    "\\hat{\\boldsymbol{\\beta}} = (\\mathbf{X}^\\top \\mathbf{X})^{-1}\\mathbf{X}^\\top \\mathbf{y}\n",
    "$$\n",
    "\n",
    "Usando la descomposición QR:\n",
    "\n",
    "$$\n",
    "\\mathbf{X} = \\mathbf{Q}\\mathbf{R}\n",
    "$$\n",
    "\n",
    "Derivación paso a paso:\n",
    "\n",
    "$$\n",
    "\\begin{aligned}\n",
    "\\hat{\\boldsymbol{\\beta}} \n",
    "&= (\\mathbf{Q}^\\top \\mathbf{R}^\\top \\mathbf{Q}\\mathbf{R})^{-1}\\mathbf{Q}^\\top \\mathbf{R}^\\top \\mathbf{y} \\\\[2mm]\n",
    "&= (\\mathbf{R}^\\top \\mathbf{R})^{-1}\\mathbf{R}^\\top \\mathbf{Q}^\\top \\mathbf{y} \\\\[2mm]\n",
    "&= \\mathbf{R}^{-1}\\mathbf{Q}^\\top \\mathbf{y}\n",
    "\\end{aligned}\n",
    "$$\n",
    "\n",
    "Finalmente,\n",
    "\n",
    "$$\n",
    "\\hat{\\boldsymbol{\\beta}}\\mathbf{R} = \\mathbf{Q}^\\top \\mathbf{y}\n",
    "$$\n",
    "\n"
   ]
  },
  {
   "cell_type": "markdown",
   "id": "f76c7adb",
   "metadata": {},
   "source": [
    "Tiene esta forma\n",
    "$$\n",
    "\\mathbf{X} \\boldsymbol{\\beta} =\n",
    "\\begin{bmatrix}\n",
    "1 & x_{11} & x_{12} & \\cdots & x_{1p} \\\\\n",
    "1 & x_{21} & x_{22} & \\cdots & x_{2p} \\\\\n",
    "\\vdots & \\vdots & \\vdots & \\ddots & \\vdots \\\\\n",
    "1 & x_{n1} & x_{n2} & \\cdots & x_{np} \\\\\n",
    "\\end{bmatrix}\n",
    "\\begin{bmatrix}\n",
    "\\beta_0 \\\\\n",
    "\\beta_1 \\\\\n",
    "\\vdots \\\\\n",
    "\\beta_p\n",
    "\\end{bmatrix}\n",
    "=\n",
    "\\begin{bmatrix}\n",
    "y_1 \\\\\n",
    "y_2 \\\\\n",
    "\\vdots \\\\\n",
    "y_n\n",
    "\\end{bmatrix}\n",
    "$$\n",
    "\n"
   ]
  },
  {
   "cell_type": "code",
   "execution_count": 125,
   "id": "476f32ab",
   "metadata": {},
   "outputs": [
    {
     "name": "stdout",
     "output_type": "stream",
     "text": [
      "\n",
      "beta (intercepto, pendiente):\n",
      " [-15.18179943   1.0138367 ]\n"
     ]
    }
   ],
   "source": [
    "x = x.reshape(-1,1)\n",
    "\n",
    "X = np.hstack([np.ones((x.shape[0],1)), x])\n",
    "\n",
    "Q, R = np.linalg.qr(X)\n",
    "\n",
    "Qt_y = Q.T @ y\n",
    "\n",
    "beta = np.linalg.solve(R, Qt_y)\n",
    "print(\"\\nbeta (intercepto, pendiente):\\n\", beta)"
   ]
  },
  {
   "cell_type": "code",
   "execution_count": 121,
   "id": "99ac7248",
   "metadata": {},
   "outputs": [
    {
     "name": "stdout",
     "output_type": "stream",
     "text": [
      "beta0 = -15.1818\n",
      "beta1 = 1.0138\n"
     ]
    }
   ],
   "source": [
    "x = x.reshape(1,-1)\n",
    "x_mean = np.mean(x)\n",
    "y_mean = np.mean(y)\n",
    "beta_1 = np.sum((x - x_mean) * (y - y_mean)) / np.sum((x - x_mean)**2)\n",
    "beta_0 = y_mean - beta_1 * x_mean\n",
    "print(f\"beta0 = {beta_0:.4f}\")\n",
    "print(f\"beta1 = {beta_1:.4f}\")"
   ]
  },
  {
   "cell_type": "code",
   "execution_count": null,
   "id": "e13975a6",
   "metadata": {},
   "outputs": [
    {
     "name": "stdout",
     "output_type": "stream",
     "text": [
      "-15.181799427126236\n",
      "[1.0138367]\n"
     ]
    }
   ],
   "source": [
    "from sklearn.linear_model import LinearRegression\n",
    "\n",
    "x = x.reshape(-1,1)\n",
    "\n",
    "# Initialize and fit the model\n",
    "model = LinearRegression()\n",
    "model.fit(x, y)\n",
    "print(model.intercept_)\n",
    "print(model.coef_)\n"
   ]
  }
 ],
 "metadata": {
  "kernelspec": {
   "display_name": "FraudDetection",
   "language": "python",
   "name": "python3"
  },
  "language_info": {
   "codemirror_mode": {
    "name": "ipython",
    "version": 3
   },
   "file_extension": ".py",
   "mimetype": "text/x-python",
   "name": "python",
   "nbconvert_exporter": "python",
   "pygments_lexer": "ipython3",
   "version": "3.10.16"
  }
 },
 "nbformat": 4,
 "nbformat_minor": 5
}
